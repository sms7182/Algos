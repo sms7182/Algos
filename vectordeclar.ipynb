{
  "nbformat": 4,
  "nbformat_minor": 0,
  "metadata": {
    "colab": {
      "provenance": [],
      "authorship_tag": "ABX9TyOQO2v7Zgw313aJMhQBYbVB",
      "include_colab_link": true
    },
    "kernelspec": {
      "name": "python3",
      "display_name": "Python 3"
    },
    "language_info": {
      "name": "python"
    }
  },
  "cells": [
    {
      "cell_type": "markdown",
      "metadata": {
        "id": "view-in-github",
        "colab_type": "text"
      },
      "source": [
        "<a href=\"https://colab.research.google.com/github/sms7182/Algos/blob/master/vectordeclar.ipynb\" target=\"_parent\"><img src=\"https://colab.research.google.com/assets/colab-badge.svg\" alt=\"Open In Colab\"/></a>"
      ]
    },
    {
      "cell_type": "code",
      "execution_count": 3,
      "metadata": {
        "id": "1HG0IpPLyj1x"
      },
      "outputs": [],
      "source": [
        "from PIL import Image\n",
        "from abc import ABCMeta, abstractmethod\n",
        "\n",
        "\n"
      ]
    },
    {
      "cell_type": "code",
      "source": [
        "class Vector (metaclass=ABCMeta):\n",
        "  @abstractmethod\n",
        "  def scale(self,scalar):\n",
        "    pass\n",
        "  @abstractmethod\n",
        "  def add(self,other):\n",
        "    pass"
      ],
      "metadata": {
        "id": "_8dWqXh4zJhT"
      },
      "execution_count": 4,
      "outputs": []
    },
    {
      "cell_type": "code",
      "source": [],
      "metadata": {
        "id": "ngv6AUcS7_x-"
      },
      "execution_count": null,
      "outputs": []
    }
  ]
}